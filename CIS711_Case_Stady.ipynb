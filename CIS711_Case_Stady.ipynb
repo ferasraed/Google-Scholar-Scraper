{
  "cells": [
    {
      "cell_type": "markdown",
      "metadata": {
        "id": "view-in-github",
        "colab_type": "text"
      },
      "source": [
        "<a href=\"https://colab.research.google.com/github/ferasraed/Scraping-Over-Google-Scholar/blob/main/CIS711_Case_Stady.ipynb\" target=\"_parent\"><img src=\"https://colab.research.google.com/assets/colab-badge.svg\" alt=\"Open In Colab\"/></a>"
      ]
    },
    {
      "cell_type": "code",
      "execution_count": 6,
      "id": "cb29e692-151c-4d67-867a-dbaa97996cc6",
      "metadata": {
        "id": "cb29e692-151c-4d67-867a-dbaa97996cc6"
      },
      "outputs": [],
      "source": [
        "import requests as rs\n",
        "from bs4 import BeautifulSoup\n",
        "import pandas as pd\n",
        "import urllib.parse"
      ]
    },
    {
      "cell_type": "code",
      "execution_count": 7,
      "id": "8b1baf85-b48d-402a-92cb-d2675a8349bb",
      "metadata": {
        "id": "8b1baf85-b48d-402a-92cb-d2675a8349bb"
      },
      "outputs": [],
      "source": [
        "scholars = []\n",
        "header = ['Name', 'University/Company', 'Position', 'Homepage', 'Research Interests', 'Citations', 'h-index', 'i10-index', 'First Publication', 'Co_authors for First Publication', 'Citation for First Publication', 'Second Publication', 'Co_authors for Second Publication', 'Citation for Second Publication']\n",
        "scholars.append(header)\n",
        "\n",
        "def collect_data(soup):\n",
        "    try:\n",
        "        div_name = soup.find('div', id='gsc_prf_in')\n",
        "        name = div_name.text.strip()\n",
        "    except AttributeError:\n",
        "        name = ''\n",
        "\n",
        "    try:\n",
        "        div_company = soup.find('a', class_='gsc_prf_ila')\n",
        "        if div_company:\n",
        "            company = div_company.text.strip()\n",
        "            if company.lower() == 'homepage':\n",
        "                company = ''\n",
        "        else:\n",
        "            div_company = soup.find('div', class_='gsc_prf_il')\n",
        "            company_text = div_company.get_text().strip()\n",
        "            company = company_text.split(',')[0]\n",
        "            if company.lower() == 'homepage':\n",
        "                company = ''\n",
        "    except AttributeError:\n",
        "        company = ''\n",
        "\n",
        "    try:\n",
        "        div_position = soup.find('div', class_='gsc_prf_il')\n",
        "        position = div_position.get_text(strip=True).split(',')[0]\n",
        "    except AttributeError:\n",
        "        position = ''\n",
        "\n",
        "    try:\n",
        "        a_homepage = soup.find('div', id='gsc_prf_ivh').find('a', class_='gsc_prf_ila')\n",
        "        homepage_url = a_homepage.get('href')\n",
        "    except AttributeError:\n",
        "        homepage_url = ''\n",
        "\n",
        "    try:\n",
        "        td_citations = soup.find('td', class_='gsc_rsb_std')\n",
        "        citations = td_citations.text.strip()\n",
        "    except AttributeError:\n",
        "        citations = ''\n",
        "\n",
        "    try:\n",
        "        td_h_index = soup.find('td', string='h-index')\n",
        "        h_index_value = td_h_index.find_next_sibling('td').text.strip()\n",
        "    except AttributeError:\n",
        "        h_index_value = ''\n",
        "\n",
        "    try:\n",
        "        td_i10_index = soup.find('td', string='i10-index')\n",
        "        i10_index_value = td_i10_index.find_next_sibling('td').text.strip()\n",
        "    except AttributeError:\n",
        "        i10_index_value = ''\n",
        "\n",
        "    try:\n",
        "        research_interests_div = soup.find('div', id='gsc_prf_int')\n",
        "        research_interests = [interest.text.strip() for interest in research_interests_div.find_all('a', class_='gsc_prf_inta')]\n",
        "    except AttributeError:\n",
        "        research_interests = []\n",
        "    title1 = ''\n",
        "    co_authors1 = ''\n",
        "    citation1 = ''\n",
        "    title2 = ''\n",
        "    co_authors2 = ''\n",
        "    citation2 = ''\n",
        "    try:\n",
        "        publications = soup.find_all('tr', class_='gsc_a_tr')[:1]\n",
        "        for publication in publications:\n",
        "            title1 = publication.find('a', class_='gsc_a_at').get_text()\n",
        "            co_authors1 = publication.find('div', class_='gs_gray').get_text()\n",
        "            citation1 = publication.find('a', class_='gsc_a_ac').get_text()\n",
        "    except AttributeError:\n",
        "        pass\n",
        "\n",
        "    try:\n",
        "        publications = soup.find_all('tr', class_='gsc_a_tr')[:2]\n",
        "        for publication in publications:\n",
        "            title2 = publication.find('a', class_='gsc_a_at').get_text()\n",
        "            co_authors2 = publication.find('div', class_='gs_gray').get_text()\n",
        "            citation2 = publication.find('a', class_='gsc_a_ac').get_text()\n",
        "    except AttributeError:\n",
        "        pass\n",
        "\n",
        "    row = [name, company, position, homepage_url, research_interests, citations, h_index_value, i10_index_value,\n",
        "          title1, co_authors1, citation1, title2, co_authors2, citation2]\n",
        "    scholars.append(row)"
      ]
    },
    {
      "cell_type": "code",
      "execution_count": null,
      "id": "860377fb-28e5-421b-bf3b-8d963bfe472c",
      "metadata": {
        "id": "860377fb-28e5-421b-bf3b-8d963bfe472c"
      },
      "outputs": [],
      "source": [
        "URLs = ['https://scholar.google.com/citations?hl=en&user=kukA0LcAAAAJ', 'https://scholar.google.com/citations?hl=en&user=ALVSZAYAAAAJ', 'https://scholar.google.com/citations?hl=en&user=Tb0ZrYwAAAAJ', 'https://scholar.google.com/citations?hl=en&user=LnBGQ3QAAAAJ', 'https://scholar.google.com/citations?hl=en&user=FaOcyfMAAAAJ', 'https://scholar.google.com/citations?hl=en&user=OQpf9YsAAAAJ', 'https://scholar.google.com/citations?hl=en&user=hBTsXMgAAAAJ', 'https://scholar.google.com/citations?hl=en&user=wsGvgA8AAAAJ', 'https://scholar.google.com/citations?hl=en&user=wsGvgA8AAAAJ', 'https://scholar.google.com/citations?hl=en&user=tvUH3WMAAAAJ']\n",
        "\n",
        "visited_URL = 0\n",
        "visited_URLs = set()\n",
        "def extract_coauthor_urls(profile_url):\n",
        "    global visited_URL\n",
        "    header_k = {'User-Agent': 'Mozilla/5.0 (Windows NT 10.0; Win64; x64) AppleWebKit/537.36 (KHTML, like Gecko) Chrome/123.0.0.0 Safari/537.36'}\n",
        "    if profile_url not in visited_URLs:\n",
        "        resquested = rs.get(profile_url, headers=header_k)\n",
        "        visited_URL += 1\n",
        "        html_content = resquested.content\n",
        "        soup = BeautifulSoup(html_content, 'html.parser')\n",
        "        for co_author in soup.find_all('div', class_='gsc_rsb_aa'):\n",
        "            co_author_url = co_author.find('a').get('href')\n",
        "            co_author_url = urllib.parse.urljoin('https://scholar.google.com/', co_author_url)\n",
        "            if co_author_url in URLs:\n",
        "              continue\n",
        "            URLs.append(co_author_url)\n",
        "\n",
        "        # get the data\n",
        "        collect_data(soup)\n",
        "\n",
        "for URL in URLs:\n",
        "    if visited_URL >= 60000:\n",
        "        break\n",
        "\n",
        "    extract_coauthor_urls(URL)"
      ]
    },
    {
      "cell_type": "code",
      "execution_count": 8,
      "id": "6da61030-7d70-47d8-a767-5fca19d0bfe5",
      "metadata": {
        "id": "6da61030-7d70-47d8-a767-5fca19d0bfe5"
      },
      "outputs": [],
      "source": [
        "header = scholars[0]\n",
        "scholars = scholars[1:]\n",
        "scholars_df = pd.DataFrame(scholars, columns=header)\n",
        "scholars_df = scholars_df.drop_duplicates(subset=['Research Interests'])\n",
        "scholars_df.to_csv(\"Scholars_info.csv\", index=False)"
      ]
    }
  ],
  "metadata": {
    "kernelspec": {
      "display_name": "Python 3 (ipykernel)",
      "language": "python",
      "name": "python3"
    },
    "language_info": {
      "codemirror_mode": {
        "name": "ipython",
        "version": 3
      },
      "file_extension": ".py",
      "mimetype": "text/x-python",
      "name": "python",
      "nbconvert_exporter": "python",
      "pygments_lexer": "ipython3",
      "version": "3.11.7"
    },
    "colab": {
      "provenance": [],
      "include_colab_link": true
    }
  },
  "nbformat": 4,
  "nbformat_minor": 5
}
